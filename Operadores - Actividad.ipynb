{
 "cells": [
  {
   "cell_type": "markdown",
   "metadata": {},
   "source": [
    "## Operadores - Actividad"
   ]
  },
  {
   "cell_type": "markdown",
   "metadata": {},
   "source": [
    "1) Pedir al usuario dos números y mostrar por pantalla la suma de ellos."
   ]
  },
  {
   "cell_type": "code",
   "execution_count": 11,
   "metadata": {},
   "outputs": [
    {
     "name": "stdout",
     "output_type": "stream",
     "text": [
      "71\n"
     ]
    }
   ],
   "source": [
    "numero_1 = int(input(\"Ingrese un numero por teclado\"))\n",
    "numero_2 = int(input(\"Ingrese un numero por teclado\"))\n",
    "print(numero_1 + numero_2)\n",
    "\n",
    "\n"
   ]
  },
  {
   "cell_type": "markdown",
   "metadata": {},
   "source": [
    "2) Calcular el perímetro y área de un rectángulo dada su base y su altura (el usuario debe introducir por teclado los dos valores)."
   ]
  },
  {
   "cell_type": "code",
   "execution_count": 16,
   "metadata": {},
   "outputs": [
    {
     "name": "stdout",
     "output_type": "stream",
     "text": [
      "1170\n"
     ]
    }
   ],
   "source": [
    "base = int(input(\"ingresa 1 numero\"))\n",
    "altura = int(input(\"ingresa 1 numero\"))\n",
    "area = (base*altura)\n",
    "print(area)"
   ]
  },
  {
   "cell_type": "markdown",
   "metadata": {},
   "source": [
    "3) Calcular el resultado de elevar un número entero a otro número entero (por ejemplo, 5 elevado a 3 = 5^3 = 5*5*5)."
   ]
  },
  {
   "cell_type": "code",
   "execution_count": 19,
   "metadata": {},
   "outputs": [
    {
     "name": "stdout",
     "output_type": "stream",
     "text": [
      "16\n"
     ]
    }
   ],
   "source": [
    "entero_1= int(input(\"ingresa 1 numero base \"))\n",
    "entero_2= int(input(\"ingresa 1 numero exponente\"))\n",
    "resultado= (entero_1**entero_2)\n",
    "print(resultado)\n"
   ]
  },
  {
   "cell_type": "markdown",
   "metadata": {},
   "source": [
    "4) Escribe un programa que convierta grados Celsius a grados Fahrenheit utilizando la fórmula: **F = (C * 9/5) + 32**"
   ]
  },
  {
   "cell_type": "code",
   "execution_count": 20,
   "metadata": {},
   "outputs": [
    {
     "name": "stdout",
     "output_type": "stream",
     "text": [
      "77.0\n"
     ]
    }
   ],
   "source": [
    "C = int(input(\"ingresa 1 numero\"))\n",
    "fahrenheit = (C * 9/5) + 32\n",
    "print(fahrenheit)"
   ]
  },
  {
   "cell_type": "markdown",
   "metadata": {},
   "source": [
    "5) Pedir al usuario su edad y mostrar por pantalla si es mayor de edad o no. (Mayor de edad >= 18)"
   ]
  },
  {
   "cell_type": "code",
   "execution_count": 70,
   "metadata": {},
   "outputs": [
    {
     "name": "stdout",
     "output_type": "stream",
     "text": [
      "False es menor de edad\n"
     ]
    }
   ],
   "source": [
    "edad = int(input(\"ingrese su edad\"))\n",
    "if edad >= 18: print(True , \"es mayor de edad\")\n",
    "if edad < 18:print(False , \"es menor de edad\")\n",
    "\n"
   ]
  },
  {
   "cell_type": "markdown",
   "metadata": {},
   "source": [
    "6) Comprobar si el numero ingresado por el usuario es par o impar."
   ]
  },
  {
   "cell_type": "code",
   "execution_count": 32,
   "metadata": {},
   "outputs": [
    {
     "name": "stdout",
     "output_type": "stream",
     "text": [
      "True es par\n"
     ]
    }
   ],
   "source": [
    "dato = int(input(\"ingresa 1 numero\"))\n",
    "if dato % 2 == 0: print(True , \"es par\")\n",
    "if dato % 2 == 1:print(False , \"es impar\")"
   ]
  },
  {
   "cell_type": "markdown",
   "metadata": {},
   "source": [
    "7) Pedir al usuario que ingrese su dirección email y luego mostrar un mensaje indicando si la dirección es válida o no. Una dirección se considerará válida si contiene el símbolo \"@\"."
   ]
  },
  {
   "cell_type": "code",
   "execution_count": 34,
   "metadata": {},
   "outputs": [
    {
     "name": "stdout",
     "output_type": "stream",
     "text": [
      "True es valida ya que contiene el simbolo @\n"
     ]
    }
   ],
   "source": [
    "email= input(\"ingresa tu email\")\n",
    "if \"@\" in email: print(True, \"es valida ya que contiene el simbolo @\")"
   ]
  },
  {
   "cell_type": "markdown",
   "metadata": {},
   "source": [
    "8) Dado un número de dos cifras, diseñe un algoritmo que permita obtener el número invertido. Ejemplo, si se introduce 23 que muestre 32. (Recordar que las cadenas pueden tratarse como listas de caracteres)."
   ]
  },
  {
   "cell_type": "code",
   "execution_count": 45,
   "metadata": {},
   "outputs": [
    {
     "name": "stdout",
     "output_type": "stream",
     "text": [
      "62\n"
     ]
    }
   ],
   "source": [
    "numero_de_2_cifras = int(input(\"ingresa 1 numero de 2 cifras\"))\n",
    "unidad = str(numero_de_2_cifras % 10)\n",
    "decena = str(numero_de_2_cifras // 10)\n",
    "print (str(unidad + decena))\n"
   ]
  },
  {
   "cell_type": "markdown",
   "metadata": {},
   "source": []
  },
  {
   "cell_type": "markdown",
   "metadata": {},
   "source": [
    "9) Crea un programa que pida al usuario dos números y muestre True si ambos son mayores que 10."
   ]
  },
  {
   "cell_type": "code",
   "execution_count": 38,
   "metadata": {},
   "outputs": [
    {
     "name": "stdout",
     "output_type": "stream",
     "text": [
      "True es mayor de 10\n"
     ]
    }
   ],
   "source": [
    "valor_1 = int(input(\"ingresa 1 numero\"))\n",
    "valor_2 = int(input(\"ingresa 1 numero\"))\n",
    "if valor_1 and valor_2 > 10 : print(True , \"es mayor de 10\")\n",
    "else: print(False , \"es menor de 10\")"
   ]
  },
  {
   "cell_type": "markdown",
   "metadata": {},
   "source": [
    "10) Escribe un programa que verifique si un número ingresado por el usuario es divisible por 3 y por 5."
   ]
  },
  {
   "cell_type": "code",
   "execution_count": 121,
   "metadata": {},
   "outputs": [
    {
     "name": "stdout",
     "output_type": "stream",
     "text": [
      "True es divisible por 3 y por 5\n"
     ]
    }
   ],
   "source": [
    "numero_usuario = int(input(\"ingresa 1 numero\"))\n",
    "if numero_usuario % 3 == 0 and numero_usuario % 5 == 0: print(True , \"es divisible por 3 y por 5\")\n",
    "else: print(False , \"no es divisible por 3 y por 5\")"
   ]
  },
  {
   "cell_type": "markdown",
   "metadata": {},
   "source": [
    "11) Utilizando la información del punto 5, preguntar al usuario si posee carnet de conducir, luego verificar si puede conducir un automóvil."
   ]
  },
  {
   "cell_type": "code",
   "execution_count": 71,
   "metadata": {},
   "outputs": [
    {
     "name": "stdout",
     "output_type": "stream",
     "text": [
      "False no puedes conducir\n"
     ]
    }
   ],
   "source": [
    "permiso_para_conducir = input(\"¿Tiene permiso para conducir?\")\n",
    "if edad > 18 and permiso_para_conducir == \"si\": print(True, \"puedes conducir\")\n",
    "if edad > 18 and permiso_para_conducir == \"no\": print(False, \"no puedes conducir\")\n",
    "if edad < 18 : print(False, \"no puedes conducir\")"
   ]
  },
  {
   "cell_type": "markdown",
   "metadata": {},
   "source": [
    "12) Pide al usuario un número y verifica si es positivo y no es mayor que 100."
   ]
  },
  {
   "cell_type": "code",
   "execution_count": 80,
   "metadata": {},
   "outputs": [
    {
     "name": "stdout",
     "output_type": "stream",
     "text": [
      "False es negativo\n"
     ]
    }
   ],
   "source": [
    "numero_4= int(input(\"ingresa 1 numero\"))\n",
    "if numero_4 > 0 or numero_4 == 0 and numero_4< 100 : print(True , \"es positivo y menor a 100\")\n",
    "if numero_4 < 0 : print(False , \"es negativo\")\n",
    "if numero_4 > 100 : print(False , \"es positivo y mayor a 100\")"
   ]
  },
  {
   "cell_type": "markdown",
   "metadata": {},
   "source": [
    "13) Crear un programa que valide si un número ingresado por el usuario es par y mayor que 20."
   ]
  },
  {
   "cell_type": "code",
   "execution_count": 83,
   "metadata": {},
   "outputs": [
    {
     "name": "stdout",
     "output_type": "stream",
     "text": [
      "False es menor a 20\n"
     ]
    }
   ],
   "source": [
    "numero_para_validar = int(input(\"ingresa 1 numero\"))\n",
    "if numero_para_validar >= 20 and numero_para_validar % 2 ==0: print(True , \"es mayor a 20 y es par\")\n",
    "if numero_para_validar >= 20 and numero_para_validar % 2 ==1: print(False , \"es mayor a 20 y es impar\")\n",
    "if numero_para_validar < 20 : print(False , \"es menor a 20\")"
   ]
  },
  {
   "cell_type": "markdown",
   "metadata": {},
   "source": [
    "14) Dada la variable **numero = 5**, realizar la operación necesaria para que número sea igual a 8. Luego imprimir en pantalla el nuevo valor de número y realizar una nueva operación para que el valor de número sea igual a 4 y mostrar en pantalla el nuevo valor."
   ]
  },
  {
   "cell_type": "code",
   "execution_count": 88,
   "metadata": {},
   "outputs": [
    {
     "name": "stdout",
     "output_type": "stream",
     "text": [
      "8\n",
      "4\n"
     ]
    }
   ],
   "source": [
    "numero = 5\n",
    "numero += 3\n",
    "print(numero)\n",
    "numero -=4\n",
    "print(numero)"
   ]
  },
  {
   "cell_type": "markdown",
   "metadata": {},
   "source": [
    "15) Dadas las variables altura = \"10\" y base = 5, calcular el área de un triángulo y mostrar el resultado en pantalla. ¿Por qué el resultado es un error? ¿Cómo lo corregirías?"
   ]
  },
  {
   "cell_type": "code",
   "execution_count": 91,
   "metadata": {},
   "outputs": [
    {
     "ename": "TypeError",
     "evalue": "unsupported operand type(s) for /: 'str' and 'int'",
     "output_type": "error",
     "traceback": [
      "\u001b[1;31m---------------------------------------------------------------------------\u001b[0m",
      "\u001b[1;31mTypeError\u001b[0m                                 Traceback (most recent call last)",
      "Cell \u001b[1;32mIn[91], line 3\u001b[0m\n\u001b[0;32m      1\u001b[0m altura_1 \u001b[38;5;241m=\u001b[39m \u001b[38;5;124m\"\u001b[39m\u001b[38;5;124m10\u001b[39m\u001b[38;5;124m\"\u001b[39m\n\u001b[0;32m      2\u001b[0m base_1 \u001b[38;5;241m=\u001b[39m \u001b[38;5;241m5\u001b[39m\n\u001b[1;32m----> 3\u001b[0m A \u001b[38;5;241m=\u001b[39m \u001b[43m(\u001b[49m\u001b[43mbase_1\u001b[49m\u001b[38;5;241;43m*\u001b[39;49m\u001b[43maltura_1\u001b[49m\u001b[43m)\u001b[49m\u001b[38;5;241;43m/\u001b[39;49m\u001b[38;5;241;43m2\u001b[39;49m\n\u001b[0;32m      4\u001b[0m \u001b[38;5;28mprint\u001b[39m(A)\n",
      "\u001b[1;31mTypeError\u001b[0m: unsupported operand type(s) for /: 'str' and 'int'"
     ]
    }
   ],
   "source": [
    "altura_1 = \"10\" \n",
    "base_1 = 5\n",
    "A = (base_1*altura_1)/2\n",
    "print(A) #da error ya que 10 esta como string y no como numero entero. Lo corregiria sacando las comillas."
   ]
  },
  {
   "cell_type": "markdown",
   "metadata": {},
   "source": [
    "16) Crea un programa que calcule el promedio de tres calificaciones ingresadas por el usuario, y comprobar si el alumno aprobó o no (aprueba con nota mayor a 6)."
   ]
  },
  {
   "cell_type": "code",
   "execution_count": 93,
   "metadata": {},
   "outputs": [
    {
     "name": "stdout",
     "output_type": "stream",
     "text": [
      "False desaprobó\n"
     ]
    }
   ],
   "source": [
    "calificacion_1= int(input(\"ingresa tu calificacion\"))\n",
    "calificacion_2= int(input(\"ingresa tu calificacion\"))\n",
    "calificacion_3= int(input(\"ingresa tu calificacion\"))\n",
    "if (calificacion_1+calificacion_2+calificacion_3)/3 >= 6: print(True , \"aprobó\")\n",
    "if (calificacion_1+calificacion_2+calificacion_3)/3 <= 6: print(False, \"desaprobó\")"
   ]
  },
  {
   "cell_type": "markdown",
   "metadata": {},
   "source": [
    "17) Pide al usuario su edad y calcula cuántos días, horas y minutos ha vivido aproximadamente (asumiendo 365 días por año)."
   ]
  },
  {
   "cell_type": "code",
   "execution_count": 110,
   "metadata": {},
   "outputs": [
    {
     "name": "stdout",
     "output_type": "stream",
     "text": [
      "tiene 9125 dias, 219000 horas y 13140000 minutos\n"
     ]
    }
   ],
   "source": [
    "edad_usuario= int(input(\"ingresa tu edad\"))\n",
    "dias = edad_usuario * 365\n",
    "horas = dias * 24\n",
    "minutos = horas * 60\n",
    "print(f\"tiene {dias} dias, {horas} horas y {minutos} minutos\")\n"
   ]
  },
  {
   "cell_type": "markdown",
   "metadata": {},
   "source": [
    "18) Crea un programa que verifique si un número ingresado por el usuario es múltiplo de 4 y de 6 al mismo tiempo."
   ]
  },
  {
   "cell_type": "code",
   "execution_count": 117,
   "metadata": {},
   "outputs": [
    {
     "name": "stdout",
     "output_type": "stream",
     "text": [
      "False no es multiplo de 6 y de 4\n"
     ]
    }
   ],
   "source": [
    "numero_6= int(input(\"ingresa 1 numero\"))\n",
    "if numero_6 %6 ==0 and numero_6 %4 ==0: print(True , \"es multiplo de 6 y de 4 al mismo tiempo\" )\n",
    "else: print(False , \"no es multiplo de 6 y de 4\" )\n"
   ]
  },
  {
   "cell_type": "markdown",
   "metadata": {},
   "source": [
    "19) "
   ]
  }
 ],
 "metadata": {
  "kernelspec": {
   "display_name": "Python 3",
   "language": "python",
   "name": "python3"
  },
  "language_info": {
   "codemirror_mode": {
    "name": "ipython",
    "version": 3
   },
   "file_extension": ".py",
   "mimetype": "text/x-python",
   "name": "python",
   "nbconvert_exporter": "python",
   "pygments_lexer": "ipython3",
   "version": "3.11.4"
  }
 },
 "nbformat": 4,
 "nbformat_minor": 2
}
